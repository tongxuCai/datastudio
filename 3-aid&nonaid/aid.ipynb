{
 "cells": [
  {
   "cell_type": "code",
   "execution_count": 1,
   "metadata": {},
   "outputs": [
    {
     "name": "stdout",
     "output_type": "stream",
     "text": [
      "Requirement already satisfied: seaborn in /Users/tongxucai/.pyenv/versions/3.6.5/lib/python3.6/site-packages\n",
      "Requirement already satisfied: matplotlib>=1.4.3 in /Users/tongxucai/.pyenv/versions/3.6.5/lib/python3.6/site-packages (from seaborn)\n",
      "Requirement already satisfied: scipy>=0.14.0 in /Users/tongxucai/.pyenv/versions/3.6.5/lib/python3.6/site-packages (from seaborn)\n",
      "Requirement already satisfied: pandas>=0.15.2 in /Users/tongxucai/.pyenv/versions/3.6.5/lib/python3.6/site-packages (from seaborn)\n",
      "Requirement already satisfied: numpy>=1.9.3 in /Users/tongxucai/.pyenv/versions/3.6.5/lib/python3.6/site-packages (from seaborn)\n",
      "Requirement already satisfied: pyparsing!=2.0.4,!=2.1.2,!=2.1.6,>=2.0.1 in /Users/tongxucai/.pyenv/versions/3.6.5/lib/python3.6/site-packages (from matplotlib>=1.4.3->seaborn)\n",
      "Requirement already satisfied: cycler>=0.10 in /Users/tongxucai/.pyenv/versions/3.6.5/lib/python3.6/site-packages (from matplotlib>=1.4.3->seaborn)\n",
      "Requirement already satisfied: kiwisolver>=1.0.1 in /Users/tongxucai/.pyenv/versions/3.6.5/lib/python3.6/site-packages (from matplotlib>=1.4.3->seaborn)\n",
      "Requirement already satisfied: python-dateutil>=2.1 in /Users/tongxucai/.pyenv/versions/3.6.5/lib/python3.6/site-packages (from matplotlib>=1.4.3->seaborn)\n",
      "Requirement already satisfied: pytz>=2017.2 in /Users/tongxucai/.pyenv/versions/3.6.5/lib/python3.6/site-packages (from pandas>=0.15.2->seaborn)\n",
      "Requirement already satisfied: six in /Users/tongxucai/.pyenv/versions/3.6.5/lib/python3.6/site-packages (from cycler>=0.10->matplotlib>=1.4.3->seaborn)\n",
      "Requirement already satisfied: setuptools in /Users/tongxucai/.pyenv/versions/3.6.5/lib/python3.6/site-packages (from kiwisolver>=1.0.1->matplotlib>=1.4.3->seaborn)\n",
      "\u001b[33mYou are using pip version 9.0.3, however version 19.2.1 is available.\n",
      "You should consider upgrading via the 'pip install --upgrade pip' command.\u001b[0m\n"
     ]
    }
   ],
   "source": [
    "import pandas as pd\n",
    "import requests\n",
    "import numpy as np\n",
    "from bs4 import BeautifulSoup\n",
    "import re \n",
    "import matplotlib\n",
    "import matplotlib.pyplot as plt\n",
    "%matplotlib inline\n",
    "!pip install seaborn\n",
    "import seaborn as sns\n",
    "matplotlib.rcParams['pdf.fonttype'] = 42"
   ]
  },
  {
   "cell_type": "code",
   "execution_count": 2,
   "metadata": {},
   "outputs": [
    {
     "data": {
      "text/html": [
       "<div>\n",
       "<style scoped>\n",
       "    .dataframe tbody tr th:only-of-type {\n",
       "        vertical-align: middle;\n",
       "    }\n",
       "\n",
       "    .dataframe tbody tr th {\n",
       "        vertical-align: top;\n",
       "    }\n",
       "\n",
       "    .dataframe thead th {\n",
       "        text-align: right;\n",
       "    }\n",
       "</style>\n",
       "<table border=\"1\" class=\"dataframe\">\n",
       "  <thead>\n",
       "    <tr style=\"text-align: right;\">\n",
       "      <th></th>\n",
       "      <th>project_id</th>\n",
       "      <th>project_location_id</th>\n",
       "      <th>precision_code</th>\n",
       "      <th>geoname_id</th>\n",
       "      <th>place_name</th>\n",
       "      <th>latitude</th>\n",
       "      <th>longitude</th>\n",
       "      <th>location_type_code</th>\n",
       "      <th>location_type_name</th>\n",
       "      <th>gazetteer_adm_code</th>\n",
       "      <th>...</th>\n",
       "      <th>loan_type</th>\n",
       "      <th>interest_rate</th>\n",
       "      <th>maturity</th>\n",
       "      <th>grace_period</th>\n",
       "      <th>grant_element</th>\n",
       "      <th>location_details</th>\n",
       "      <th>contacts</th>\n",
       "      <th>source_triangulation</th>\n",
       "      <th>field_completeness</th>\n",
       "      <th>round_coded</th>\n",
       "    </tr>\n",
       "  </thead>\n",
       "  <tbody>\n",
       "    <tr>\n",
       "      <th>0</th>\n",
       "      <td>968</td>\n",
       "      <td>968_2572183</td>\n",
       "      <td>4</td>\n",
       "      <td>2572183</td>\n",
       "      <td>Brazzaville</td>\n",
       "      <td>-4.26570</td>\n",
       "      <td>15.28048</td>\n",
       "      <td>ADM1</td>\n",
       "      <td>first-order administrative division</td>\n",
       "      <td>6295630|6255146|CG|12</td>\n",
       "      <td>...</td>\n",
       "      <td>NaN</td>\n",
       "      <td>NaN</td>\n",
       "      <td>NaN</td>\n",
       "      <td>NaN</td>\n",
       "      <td>NaN</td>\n",
       "      <td>Brazzaville suburbs</td>\n",
       "      <td>NaN</td>\n",
       "      <td>6</td>\n",
       "      <td>8</td>\n",
       "      <td>AdditionalCoded</td>\n",
       "    </tr>\n",
       "    <tr>\n",
       "      <th>1</th>\n",
       "      <td>981</td>\n",
       "      <td>981_2367237</td>\n",
       "      <td>4</td>\n",
       "      <td>2367237</td>\n",
       "      <td>Centrale</td>\n",
       "      <td>8.66667</td>\n",
       "      <td>1.00000</td>\n",
       "      <td>ADM1</td>\n",
       "      <td>first-order administrative division</td>\n",
       "      <td>6295630|6255146|TG|22</td>\n",
       "      <td>...</td>\n",
       "      <td>NaN</td>\n",
       "      <td>NaN</td>\n",
       "      <td>NaN</td>\n",
       "      <td>NaN</td>\n",
       "      <td>NaN</td>\n",
       "      <td>Centrale, Kara</td>\n",
       "      <td>NaN</td>\n",
       "      <td>6</td>\n",
       "      <td>6</td>\n",
       "      <td>AdditionalCoded</td>\n",
       "    </tr>\n",
       "    <tr>\n",
       "      <th>2</th>\n",
       "      <td>981</td>\n",
       "      <td>981_2597439</td>\n",
       "      <td>4</td>\n",
       "      <td>2597439</td>\n",
       "      <td>Kara</td>\n",
       "      <td>9.66667</td>\n",
       "      <td>0.91667</td>\n",
       "      <td>ADM1</td>\n",
       "      <td>first-order administrative division</td>\n",
       "      <td>6295630|6255146|TG|23</td>\n",
       "      <td>...</td>\n",
       "      <td>NaN</td>\n",
       "      <td>NaN</td>\n",
       "      <td>NaN</td>\n",
       "      <td>NaN</td>\n",
       "      <td>NaN</td>\n",
       "      <td>Centrale, Kara</td>\n",
       "      <td>NaN</td>\n",
       "      <td>6</td>\n",
       "      <td>6</td>\n",
       "      <td>AdditionalCoded</td>\n",
       "    </tr>\n",
       "    <tr>\n",
       "      <th>3</th>\n",
       "      <td>30730</td>\n",
       "      <td>30730_8394435</td>\n",
       "      <td>4</td>\n",
       "      <td>8394435</td>\n",
       "      <td>Eastern Darfur</td>\n",
       "      <td>11.16667</td>\n",
       "      <td>26.50000</td>\n",
       "      <td>ADM1</td>\n",
       "      <td>first-order administrative division</td>\n",
       "      <td>6295630|6255146|SD|60</td>\n",
       "      <td>...</td>\n",
       "      <td>NaN</td>\n",
       "      <td>NaN</td>\n",
       "      <td>NaN</td>\n",
       "      <td>NaN</td>\n",
       "      <td>NaN</td>\n",
       "      <td>Ed Daein, East Darfur</td>\n",
       "      <td>Wali Alagib Kabur, acting governor of the East...</td>\n",
       "      <td>4</td>\n",
       "      <td>8</td>\n",
       "      <td>AdditionalCoded</td>\n",
       "    </tr>\n",
       "    <tr>\n",
       "      <th>4</th>\n",
       "      <td>30822</td>\n",
       "      <td>30822_3348310</td>\n",
       "      <td>4</td>\n",
       "      <td>3348310</td>\n",
       "      <td>Huambo</td>\n",
       "      <td>-12.50000</td>\n",
       "      <td>15.66667</td>\n",
       "      <td>ADM1</td>\n",
       "      <td>first-order administrative division</td>\n",
       "      <td>6295630|6255146|AO|08</td>\n",
       "      <td>...</td>\n",
       "      <td>NaN</td>\n",
       "      <td>NaN</td>\n",
       "      <td>NaN</td>\n",
       "      <td>NaN</td>\n",
       "      <td>NaN</td>\n",
       "      <td>Huambo</td>\n",
       "      <td>Gao Kexiang, Chinese Ambassador ; Geoges Rebel...</td>\n",
       "      <td>5</td>\n",
       "      <td>6</td>\n",
       "      <td>AdditionalCoded</td>\n",
       "    </tr>\n",
       "  </tbody>\n",
       "</table>\n",
       "<p>5 rows × 78 columns</p>\n",
       "</div>"
      ],
      "text/plain": [
       "   project_id project_location_id  precision_code  geoname_id      place_name  \\\n",
       "0         968         968_2572183               4     2572183     Brazzaville   \n",
       "1         981         981_2367237               4     2367237        Centrale   \n",
       "2         981         981_2597439               4     2597439            Kara   \n",
       "3       30730       30730_8394435               4     8394435  Eastern Darfur   \n",
       "4       30822       30822_3348310               4     3348310          Huambo   \n",
       "\n",
       "   latitude  longitude location_type_code  \\\n",
       "0  -4.26570   15.28048               ADM1   \n",
       "1   8.66667    1.00000               ADM1   \n",
       "2   9.66667    0.91667               ADM1   \n",
       "3  11.16667   26.50000               ADM1   \n",
       "4 -12.50000   15.66667               ADM1   \n",
       "\n",
       "                    location_type_name     gazetteer_adm_code  ... loan_type  \\\n",
       "0  first-order administrative division  6295630|6255146|CG|12  ...       NaN   \n",
       "1  first-order administrative division  6295630|6255146|TG|22  ...       NaN   \n",
       "2  first-order administrative division  6295630|6255146|TG|23  ...       NaN   \n",
       "3  first-order administrative division  6295630|6255146|SD|60  ...       NaN   \n",
       "4  first-order administrative division  6295630|6255146|AO|08  ...       NaN   \n",
       "\n",
       "   interest_rate  maturity grace_period grant_element        location_details  \\\n",
       "0            NaN       NaN          NaN           NaN     Brazzaville suburbs   \n",
       "1            NaN       NaN          NaN           NaN          Centrale, Kara   \n",
       "2            NaN       NaN          NaN           NaN          Centrale, Kara   \n",
       "3            NaN       NaN          NaN           NaN  Ed Daein, East Darfur    \n",
       "4            NaN       NaN          NaN           NaN                  Huambo   \n",
       "\n",
       "                                            contacts source_triangulation  \\\n",
       "0                                                NaN                    6   \n",
       "1                                                NaN                    6   \n",
       "2                                                NaN                    6   \n",
       "3  Wali Alagib Kabur, acting governor of the East...                    4   \n",
       "4  Gao Kexiang, Chinese Ambassador ; Geoges Rebel...                    5   \n",
       "\n",
       "  field_completeness      round_coded  \n",
       "0                  8  AdditionalCoded  \n",
       "1                  6  AdditionalCoded  \n",
       "2                  6  AdditionalCoded  \n",
       "3                  8  AdditionalCoded  \n",
       "4                  6  AdditionalCoded  \n",
       "\n",
       "[5 rows x 78 columns]"
      ]
     },
     "execution_count": 2,
     "metadata": {},
     "output_type": "execute_result"
    }
   ],
   "source": [
    "df1=pd.read_csv('oda-like_flows.csv')\n",
    "df1.head()"
   ]
  },
  {
   "cell_type": "code",
   "execution_count": 3,
   "metadata": {},
   "outputs": [
    {
     "data": {
      "text/plain": [
       "Tanzania    299\n",
       "Cambodia    226\n",
       "Zimbabwe    131\n",
       "Zambia      127\n",
       "Kenya       123\n",
       "Pakistan    122\n",
       "Ghana       106\n",
       "Name: recipients, dtype: int64"
      ]
     },
     "execution_count": 3,
     "metadata": {},
     "output_type": "execute_result"
    }
   ],
   "source": [
    "df1['recipients'].value_counts().head(7)"
   ]
  },
  {
   "cell_type": "code",
   "execution_count": 4,
   "metadata": {},
   "outputs": [
    {
     "data": {
      "text/plain": [
       "Completion        3445\n",
       "Implementation     870\n",
       "Name: status, dtype: int64"
      ]
     },
     "execution_count": 4,
     "metadata": {},
     "output_type": "execute_result"
    }
   ],
   "source": [
    "df1['status'].value_counts()"
   ]
  },
  {
   "cell_type": "code",
   "execution_count": 5,
   "metadata": {},
   "outputs": [
    {
     "data": {
      "text/plain": [
       "Health                          866\n",
       "Transport and Storage           567\n",
       "Government and Civil Society    474\n",
       "Emergency Response              458\n",
       "Education                       439\n",
       "Name: ad_sector_names, dtype: int64"
      ]
     },
     "execution_count": 5,
     "metadata": {},
     "output_type": "execute_result"
    }
   ],
   "source": [
    "df1['ad_sector_names'].value_counts().head(5)"
   ]
  },
  {
   "cell_type": "code",
   "execution_count": 6,
   "metadata": {},
   "outputs": [
    {
     "data": {
      "image/png": "[encoded data removed]",
      "text/plain": [
       "<Figure size 432x288 with 1 Axes>"
      ]
     },
     "metadata": {
      "needs_background": "light"
     },
     "output_type": "display_data"
    }
   ],
   "source": [
    "ax = df1['year'].value_counts().sort_index().plot()\n",
    "df2=pd.read_csv('oof-like_flows.csv')\n",
    "df2['year'].value_counts().sort_index().plot(ax=ax,grid=True)\n",
    "# plt.savefig('compareyear.pdf')\n",
    "plt.savefig('compareyear.svg')"
   ]
  },
  {
   "cell_type": "code",
   "execution_count": 12,
   "metadata": {},
   "outputs": [
    {
     "data": {
      "text/plain": [
       "Unspecified Chinese Government Institution, Government Agency                                                          3396\n",
       "Export-Import Bank of China, Government Agency                                                                          724\n",
       "Chinese Embassy/Consulate, Government Agency                                                                             87\n",
       "China Ministry of Commerce, Government Agency                                                                            20\n",
       "Industrial and Commercial Bank of China (ICBC), State-Owned Company; Export-Import Bank of China, Government Agency      10\n",
       "People's Liberation Army of China, Government Agency                                                                      7\n",
       "China Center for Disease Control and Prevention (China-CDC), Government Agency                                            7\n",
       "Gansu Natural Energy Research Institute (GNERI), Academic, Training and Research                                          7\n",
       "China Ministry of Agriculture, Government Agency                                                                          5\n",
       "unspecified Chinese Government Institution, Government Agency                                                             4\n",
       "Name: funding_agency, dtype: int64"
      ]
     },
     "execution_count": 12,
     "metadata": {},
     "output_type": "execute_result"
    }
   ],
   "source": [
    "df1['funding_agency'].value_counts().head(10)"
   ]
  },
  {
   "cell_type": "code",
   "execution_count": 14,
   "metadata": {},
   "outputs": [
    {
     "data": {
      "text/plain": [
       "Huawei Technologies Co., Ltd., Private Sector                                                                                                                   109\n",
       "International Telecommunication Construction Corporation (CITCC), State-Owned Company; China Communications Construction Company (CCCC), State-Owned Company     87\n",
       "China Road & Bridge Corporation (CRBC), State-Owned Company                                                                                                      67\n",
       "China Civil Engineering Construction Corporation (CCECC), State-Owned Company                                                                                    55\n",
       "International Telecommunication Construction Corporation (CITCC), State-Owned Company; China Comservice International, State-Owned Company                       45\n",
       "Shanghai Construction Group General Co., State-Owned Company                                                                                                     22\n",
       "Tebian Electric Apparatus, Private Sector                                                                                                                        19\n",
       "Tanzania-Zambia Railway Authority (TAZARA), State-Owned Company                                                                                                  17\n",
       "Beijing Construction Engineering Group Co., Ltd. (BCEG), State-Owned Company                                                                                     17\n",
       "China State Construction Engineering Corporation (CSCEC), State-Owned Company                                                                                    15\n",
       "Name: implementing_agency, dtype: int64"
      ]
     },
     "execution_count": 14,
     "metadata": {},
     "output_type": "execute_result"
    }
   ],
   "source": [
    "df1['implementing_agency'].value_counts().head(10)"
   ]
  },
  {
   "cell_type": "code",
   "execution_count": null,
   "metadata": {},
   "outputs": [],
   "source": []
  }
 ],
 "metadata": {
  "kernelspec": {
   "display_name": "Python 3",
   "language": "python",
   "name": "python3"
  },
  "language_info": {
   "codemirror_mode": {
    "name": "ipython",
    "version": 3
   },
   "file_extension": ".py",
   "mimetype": "text/x-python",
   "name": "python",
   "nbconvert_exporter": "python",
   "pygments_lexer": "ipython3",
   "version": "3.6.5"
  }
 },
 "nbformat": 4,
 "nbformat_minor": 2
}
