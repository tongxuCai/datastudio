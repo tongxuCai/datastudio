{
 "cells": [
  {
   "cell_type": "code",
   "execution_count": 1,
   "metadata": {},
   "outputs": [
    {
     "name": "stdout",
     "output_type": "stream",
     "text": [
      "Requirement already satisfied: seaborn in /Users/tongxucai/.pyenv/versions/3.6.5/lib/python3.6/site-packages\n",
      "Requirement already satisfied: scipy>=0.14.0 in /Users/tongxucai/.pyenv/versions/3.6.5/lib/python3.6/site-packages (from seaborn)\n",
      "Requirement already satisfied: matplotlib>=1.4.3 in /Users/tongxucai/.pyenv/versions/3.6.5/lib/python3.6/site-packages (from seaborn)\n",
      "Requirement already satisfied: numpy>=1.9.3 in /Users/tongxucai/.pyenv/versions/3.6.5/lib/python3.6/site-packages (from seaborn)\n",
      "Requirement already satisfied: pandas>=0.15.2 in /Users/tongxucai/.pyenv/versions/3.6.5/lib/python3.6/site-packages (from seaborn)\n",
      "Requirement already satisfied: python-dateutil>=2.1 in /Users/tongxucai/.pyenv/versions/3.6.5/lib/python3.6/site-packages (from matplotlib>=1.4.3->seaborn)\n",
      "Requirement already satisfied: kiwisolver>=1.0.1 in /Users/tongxucai/.pyenv/versions/3.6.5/lib/python3.6/site-packages (from matplotlib>=1.4.3->seaborn)\n",
      "Requirement already satisfied: pyparsing!=2.0.4,!=2.1.2,!=2.1.6,>=2.0.1 in /Users/tongxucai/.pyenv/versions/3.6.5/lib/python3.6/site-packages (from matplotlib>=1.4.3->seaborn)\n",
      "Requirement already satisfied: cycler>=0.10 in /Users/tongxucai/.pyenv/versions/3.6.5/lib/python3.6/site-packages (from matplotlib>=1.4.3->seaborn)\n",
      "Requirement already satisfied: pytz>=2017.2 in /Users/tongxucai/.pyenv/versions/3.6.5/lib/python3.6/site-packages (from pandas>=0.15.2->seaborn)\n",
      "Requirement already satisfied: six>=1.5 in /Users/tongxucai/.pyenv/versions/3.6.5/lib/python3.6/site-packages (from python-dateutil>=2.1->matplotlib>=1.4.3->seaborn)\n",
      "Requirement already satisfied: setuptools in /Users/tongxucai/.pyenv/versions/3.6.5/lib/python3.6/site-packages (from kiwisolver>=1.0.1->matplotlib>=1.4.3->seaborn)\n",
      "\u001b[33mYou are using pip version 9.0.3, however version 19.2.1 is available.\n",
      "You should consider upgrading via the 'pip install --upgrade pip' command.\u001b[0m\n"
     ]
    }
   ],
   "source": [
    "import pandas as pd\n",
    "import requests\n",
    "import numpy as np\n",
    "from bs4 import BeautifulSoup\n",
    "import re \n",
    "import matplotlib\n",
    "import matplotlib.pyplot as plt\n",
    "%matplotlib inline\n",
    "!pip install seaborn\n",
    "import seaborn as sns\n",
    "matplotlib.rcParams['pdf.fonttype'] = 42"
   ]
  },
  {
   "cell_type": "code",
   "execution_count": 2,
   "metadata": {},
   "outputs": [
    {
     "data": {
      "text/plain": [
       "Angola       134\n",
       "Sri Lanka     96\n",
       "Cambodia      83\n",
       "Sudan         55\n",
       "Pakistan      36\n",
       "Laos          35\n",
       "Kenya         32\n",
       "Venezuela     32\n",
       "Name: recipients, dtype: int64"
      ]
     },
     "execution_count": 2,
     "metadata": {},
     "output_type": "execute_result"
    }
   ],
   "source": [
    "df2=pd.read_csv('oof-like_flows.csv')\n",
    "df2['recipients'].value_counts().head(8)"
   ]
  },
  {
   "cell_type": "code",
   "execution_count": 3,
   "metadata": {},
   "outputs": [
    {
     "data": {
      "text/plain": [
       "Completion        756\n",
       "Implementation    384\n",
       "Name: status, dtype: int64"
      ]
     },
     "execution_count": 3,
     "metadata": {},
     "output_type": "execute_result"
    }
   ],
   "source": [
    "df2['status'].value_counts()"
   ]
  },
  {
   "cell_type": "code",
   "execution_count": 4,
   "metadata": {},
   "outputs": [
    {
     "data": {
      "text/plain": [
       "Transport and Storage                       329\n",
       "Education                                   283\n",
       "Energy Generation and Supply                173\n",
       "Other Social infrastructure and services     71\n",
       "Agriculture, Forestry and Fishing            50\n",
       "Name: ad_sector_names, dtype: int64"
      ]
     },
     "execution_count": 4,
     "metadata": {},
     "output_type": "execute_result"
    }
   ],
   "source": [
    "df2['ad_sector_names'].value_counts().head(5)"
   ]
  },
  {
   "cell_type": "code",
   "execution_count": 5,
   "metadata": {},
   "outputs": [
    {
     "data": {
      "text/plain": [
       "<matplotlib.axes._subplots.AxesSubplot at 0x120ebf438>"
      ]
     },
     "execution_count": 5,
     "metadata": {},
     "output_type": "execute_result"
    },
    {
     "data": {
      "image/png": "[encoded data removed]",
      "text/plain": [
       "<Figure size 432x288 with 1 Axes>"
      ]
     },
     "metadata": {
      "needs_background": "light"
     },
     "output_type": "display_data"
    }
   ],
   "source": [
    "df2['year'].value_counts().sort_index().plot()"
   ]
  },
  {
   "cell_type": "code",
   "execution_count": 6,
   "metadata": {},
   "outputs": [
    {
     "data": {
      "text/plain": [
       "Export-Import Bank of China, Government Agency                   455\n",
       "Unspecified Chinese Government Institution, Government Agency    403\n",
       "China Development Bank (CDB), Government Agency                  168\n",
       "Confucius Institute, Government Agency                            29\n",
       "Chinese Embassy/Consulate, Government Agency                      16\n",
       "Name: funding_agency, dtype: int64"
      ]
     },
     "execution_count": 6,
     "metadata": {},
     "output_type": "execute_result"
    }
   ],
   "source": [
    "df2['funding_agency'].value_counts().head(5)"
   ]
  },
  {
   "cell_type": "code",
   "execution_count": 7,
   "metadata": {},
   "outputs": [
    {
     "data": {
      "text/plain": [
       "SinoHydro , State-Owned Company                                         48\n",
       "China Machinery Engineering Corporation (CMEC) , State-Owned Company    35\n",
       "China Road & Bridge Corporation (CRBC), State-Owned Company             26\n",
       "Confucius Institute, Government Agency                                  24\n",
       "China Road and Bridge Corporation, State-Owned Company                  22\n",
       "Name: implementing_agency, dtype: int64"
      ]
     },
     "execution_count": 7,
     "metadata": {},
     "output_type": "execute_result"
    }
   ],
   "source": [
    "df2['implementing_agency'].value_counts().head(5)"
   ]
  },
  {
   "cell_type": "code",
   "execution_count": null,
   "metadata": {},
   "outputs": [],
   "source": []
  }
 ],
 "metadata": {
  "kernelspec": {
   "display_name": "Python 3",
   "language": "python",
   "name": "python3"
  },
  "language_info": {
   "codemirror_mode": {
    "name": "ipython",
    "version": 3
   },
   "file_extension": ".py",
   "mimetype": "text/x-python",
   "name": "python",
   "nbconvert_exporter": "python",
   "pygments_lexer": "ipython3",
   "version": "3.6.5"
  }
 },
 "nbformat": 4,
 "nbformat_minor": 2
}
